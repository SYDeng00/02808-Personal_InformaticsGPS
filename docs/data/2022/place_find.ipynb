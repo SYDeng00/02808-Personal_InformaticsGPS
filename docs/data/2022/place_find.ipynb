{
 "cells": [
  {
   "cell_type": "code",
   "execution_count": 15,
   "metadata": {},
   "outputs": [],
   "source": [
    "file_name = '/Users/dan/DTU_PROJECT/02808 Personal/02808/docs/data/processed_locations.csv'\n"
   ]
  },
  {
   "cell_type": "code",
   "execution_count": 11,
   "metadata": {},
   "outputs": [],
   "source": [
    "file_name = '/Users/dan/DTU_PROJECT/02808 Personal/02808/docs/data/processed_duration.csv'\n",
    "\n",
    "\n"
   ]
  },
  {
   "cell_type": "code",
   "execution_count": 19,
   "metadata": {},
   "outputs": [],
   "source": [
    "file_name = '/Users/dan/DTU_PROJECT/02808 Personal/02808/docs/data/combined_data.csv'"
   ]
  },
  {
   "cell_type": "code",
   "execution_count": 20,
   "metadata": {},
   "outputs": [],
   "source": [
    "import pandas as pd\n",
    "from geopy.geocoders import Nominatim\n",
    "from geopy.extra.rate_limiter import RateLimiter\n",
    "\n",
    "df = pd.read_csv(file_name)  \n",
    "\n",
    "def get_location_name(lat, lon):\n",
    "    try:\n",
    "        \n",
    "        geolocator = Nominatim(user_agent=\"my_geocoding_application\")\n",
    "        reverse = RateLimiter(geolocator.reverse, min_delay_seconds=1)\n",
    "        location = reverse((lat, lon), exactly_one=True)\n",
    "        return location.address if location else \"Unknown Location\"\n",
    "    except Exception as e:\n",
    "        print(f\"Error retrieving location for {lat}, {lon}: {e}\")\n",
    "        return \"Location retrieval failed\"\n",
    "\n",
    "df['location_name'] = df.apply(lambda row: get_location_name(row['latitude'], row['longitude']), axis=1)\n",
    "# df.to_csv('processed_locations.csv')\n",
    "\n",
    "df.to_csv(file_name)"
   ]
  },
  {
   "cell_type": "code",
   "execution_count": null,
   "metadata": {},
   "outputs": [],
   "source": []
  }
 ],
 "metadata": {
  "kernelspec": {
   "display_name": "Python 3",
   "language": "python",
   "name": "python3"
  },
  "language_info": {
   "codemirror_mode": {
    "name": "ipython",
    "version": 3
   },
   "file_extension": ".py",
   "mimetype": "text/x-python",
   "name": "python",
   "nbconvert_exporter": "python",
   "pygments_lexer": "ipython3",
   "version": "3.9.6"
  }
 },
 "nbformat": 4,
 "nbformat_minor": 2
}
